{
 "cells": [
  {
   "cell_type": "code",
   "execution_count": 6,
   "metadata": {},
   "outputs": [],
   "source": [
    "from string import Template\n",
    "import ntpath\n",
    "import glob\n",
    "import os"
   ]
  },
  {
   "cell_type": "code",
   "execution_count": 3,
   "metadata": {},
   "outputs": [],
   "source": [
    "file = open('rouge_script.sh','w')"
   ]
  },
  {
   "cell_type": "code",
   "execution_count": 4,
   "metadata": {},
   "outputs": [],
   "source": [
    "file_list=glob.glob(\"OP/config_files/*.xml\")\n",
    "#print(file_list[1].strip().split('/')[-2])"
   ]
  },
  {
   "cell_type": "code",
   "execution_count": 5,
   "metadata": {},
   "outputs": [
    {
     "name": "stdout",
     "output_type": "stream",
     "text": [
      "Encoder_decoder/annotated_encoder_decoder-master/files/config_files/for_test/batch_98_sent_11.xml\n"
     ]
    }
   ],
   "source": [
    "print(file_list[0])\n",
    "text =''"
   ]
  },
  {
   "cell_type": "code",
   "execution_count": 7,
   "metadata": {},
   "outputs": [
    {
     "name": "stdout",
     "output_type": "stream",
     "text": [
      "./runrouge.sh Encoder_decoder/annotated_encoder_decoder-master/files/config_files/for_test/batch_98_sent_11.xml > Encoder_decoder/annotated_encoder_decoder-master/files/scores/for_test/batch_98_sent_11_output\n",
      "\n"
     ]
    }
   ],
   "source": [
    "for file_name in file_list:\n",
    "    op_file_name = ntpath.basename(file_name) \n",
    "    token =  op_file_name.strip().split('.xml')\n",
    "    text+='./runrouge.sh '+file_name+ ' > OP/scores/'+os.path.basename(file_name).strip().split('.')[0]+'_output\\n'\n",
    "    print(text)\n",
    "    break\n",
    "    # generate all text and \n",
    "    # remove internwinter path from XML"
   ]
  },
  {
   "cell_type": "code",
   "execution_count": 123,
   "metadata": {},
   "outputs": [],
   "source": [
    "file.writelines(text)"
   ]
  },
  {
   "cell_type": "code",
   "execution_count": 124,
   "metadata": {},
   "outputs": [],
   "source": [
    "file.close()"
   ]
  },
  {
   "cell_type": "code",
   "execution_count": null,
   "metadata": {},
   "outputs": [],
   "source": []
  },
  {
   "cell_type": "code",
   "execution_count": null,
   "metadata": {},
   "outputs": [],
   "source": []
  }
 ],
 "metadata": {
  "kernelspec": {
   "display_name": "Python [python2]",
   "language": "python",
   "name": "Python [python2]"
  },
  "language_info": {
   "codemirror_mode": {
    "name": "ipython",
    "version": 2
   },
   "file_extension": ".py",
   "mimetype": "text/x-python",
   "name": "python",
   "nbconvert_exporter": "python",
   "pygments_lexer": "ipython2",
   "version": "2.7.13"
  }
 },
 "nbformat": 4,
 "nbformat_minor": 2
}
