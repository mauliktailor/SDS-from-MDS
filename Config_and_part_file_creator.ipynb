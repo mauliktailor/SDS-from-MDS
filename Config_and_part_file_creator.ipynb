{
 "cells": [
  {
   "cell_type": "markdown",
   "metadata": {},
   "source": [
    "## Template substitution"
   ]
  },
  {
   "cell_type": "code",
   "execution_count": null,
   "metadata": {},
   "outputs": [],
   "source": [
    "from string import Template\n",
    "import ntpath\n",
    "import glob"
   ]
  },
  {
   "cell_type": "code",
   "execution_count": null,
   "metadata": {},
   "outputs": [],
   "source": [
    "filein1= open('ref_template1.xml')\n",
    "filein2= open('ref_template2.xml')\n",
    "filein3= open('ref_template3.xml')\n",
    "filein4 = open('ref_template4.xml')"
   ]
  },
  {
   "cell_type": "code",
   "execution_count": null,
   "metadata": {},
   "outputs": [],
   "source": [
    "src1= Template(filein1.read())\n",
    "src2= Template(filein2.read())\n",
    "src3= Template(filein2.read())\n",
    "src4 = Template(filein4.read())"
   ]
  },
  {
   "cell_type": "markdown",
   "metadata": {},
   "source": [
    "## Summary and Reference Matching"
   ]
  },
  {
   "cell_type": "code",
   "execution_count": null,
   "metadata": {},
   "outputs": [],
   "source": [
    "import xml.etree.ElementTree\n",
    "e = xml.etree.ElementTree.parse('xml-config-create-folder/baseline-config.xml').getroot()"
   ]
  },
  {
   "cell_type": "code",
   "execution_count": null,
   "metadata": {},
   "outputs": [],
   "source": [
    "sumindx2refindx = dict()"
   ]
  },
  {
   "cell_type": "code",
   "execution_count": null,
   "metadata": {},
   "outputs": [],
   "source": [
    "for EVAL in e.getchildren():\n",
    "#     print('Eval ID', EVAL.get('ID'))\n",
    "    PEERS = EVAL.getchildren()[3]\n",
    "    P = PEERS.getchildren()[0]\n",
    "    candidate = list(P.itertext())[0]\n",
    "    sumindx2refindx[candidate] = []\n",
    "    MODELS = EVAL.getchildren()[4]\n",
    "    for model in MODELS:\n",
    "        sumindx2refindx[candidate].append(list(model.itertext())[0])"
   ]
  },
  {
   "cell_type": "markdown",
   "metadata": {},
   "source": [
    "## 5 files for each summary"
   ]
  },
  {
   "cell_type": "code",
   "execution_count": 152,
   "metadata": {},
   "outputs": [],
   "source": [
    "def create_configs(summary_filename):\n",
    "    tokens = summary_filename.strip().split('.')\n",
    "    number = tokens[0][-2:]\n",
    "    filename_list = ['top', 'bottom', 'swap', 'full']\n",
    "    for filename_prefix in filename_list:\n",
    "        cur_summary_filename = tokens[0][:-2]+ number+'_'+filename_prefix + '.txt'\n",
    "        if len(sumindx2refindx[summary_filename]) == 4:\n",
    "            cur_reference_file1_name = sumindx2refindx[summary_filename][0]\n",
    "            cur_reference_file2_name = sumindx2refindx[summary_filename][1]\n",
    "            cur_reference_file3_name = sumindx2refindx[summary_filename][2]\n",
    "            cur_reference_file4_name = sumindx2refindx[summary_filename][3]\n",
    "            replace_dict = {'ref_summary':cur_summary_filename, 'ref1':cur_reference_file1_name, 'ref2':cur_reference_file2_name, 'ref3':cur_reference_file3_name, 'ref4':cur_reference_file4_name}\n",
    "            result = src4.substitute(replace_dict)\n",
    "        elif len(sumindx2refindx[summary_filename]) == 3:\n",
    "            cur_reference_file1_name = sumindx2refindx[summary_filename][0]\n",
    "            cur_reference_file2_name = sumindx2refindx[summary_filename][1]\n",
    "            cur_reference_file3_name = sumindx2refindx[summary_filename][2]\n",
    "            replace_dict = {'ref_summary':cur_summary_filename, 'ref1':cur_reference_file1_name, 'ref2':cur_reference_file2_name, 'ref3':cur_reference_file3_name}\n",
    "            result = src3.substitute(replace_dict)\n",
    "        elif len(sumindx2refindx[summary_filename]) == 3:\n",
    "            cur_reference_file1_name = sumindx2refindx[summary_filename][0]\n",
    "            cur_reference_file2_name = sumindx2refindx[summary_filename][1]\n",
    "            replace_dict = {'ref_summary':cur_summary_filename, 'ref1':cur_reference_file1_name, 'ref2':cur_reference_file2_name}\n",
    "            result = src2.substitute(replace_dict)\n",
    "        elif len(sumindx2refindx[summary_filename]) == 3:\n",
    "            cur_reference_file1_name = sumindx2refindx[summary_filename][0]\n",
    "            replace_dict = {'ref_summary':cur_summary_filename, 'ref1':cur_reference_file1_name}\n",
    "            result = src1.substitute(replace_dict)\n",
    "        break\n",
    "        \n",
    "        \n",
    "        \n",
    "        config_filename = 'OP/config_files/'+summary_filename + '_' + filename_prefix + '_' + 'all.xml'\n",
    "        outfile = open(config_filename, 'w')\n",
    "        outfile.write(result)\n",
    "        outfile.close()\n",
    "    # handling blank files separately\n",
    "    filename_prefix = 'blank'\n",
    "    cur_summary_filename = filename_prefix + '.txt'\n",
    "    \n",
    "    if len(sumindx2refindx[summary_filename]) == 4:\n",
    "        cur_reference_file1_name = sumindx2refindx[summary_filename][0]\n",
    "        cur_reference_file2_name = sumindx2refindx[summary_filename][1]\n",
    "        cur_reference_file3_name = sumindx2refindx[summary_filename][2]\n",
    "        cur_reference_file4_name = sumindx2refindx[summary_filename][3]\n",
    "        replace_dict = {'ref_summary':cur_summary_filename, 'ref1':cur_reference_file1_name, 'ref2':cur_reference_file2_name, 'ref3':cur_reference_file3_name, 'ref4':cur_reference_file4_name}\n",
    "        result = src4.substitute(replace_dict)\n",
    "    elif len(sumindx2refindx[summary_filename]) == 3:\n",
    "        cur_reference_file1_name = sumindx2refindx[summary_filename][0]\n",
    "        cur_reference_file2_name = sumindx2refindx[summary_filename][1]\n",
    "        cur_reference_file3_name = sumindx2refindx[summary_filename][2]\n",
    "        replace_dict = {'ref_summary':cur_summary_filename, 'ref1':cur_reference_file1_name, 'ref2':cur_reference_file2_name, 'ref3':cur_reference_file3_name}\n",
    "        result = src3.substitute(replace_dict)\n",
    "    elif len(sumindx2refindx[summary_filename]) == 3:\n",
    "        cur_reference_file1_name = sumindx2refindx[summary_filename][0]\n",
    "        cur_reference_file2_name = sumindx2refindx[summary_filename][1]\n",
    "        replace_dict = {'ref_summary':cur_summary_filename, 'ref1':cur_reference_file1_name, 'ref2':cur_reference_file2_name}\n",
    "        result = src2.substitute(replace_dict)\n",
    "    elif len(sumindx2refindx[summary_filename]) == 3:\n",
    "        cur_reference_file1_name = sumindx2refindx[summary_filename][0]\n",
    "        replace_dict = {'ref_summary':cur_summary_filename, 'ref1':cur_reference_file1_name}\n",
    "        result = src1.substitute(replace_dict)\n",
    "    \n",
    "   \n",
    "    config_filename = 'OP/config_files/'+summary_filename + '_' + filename_prefix + '_' + 'all.xml'\n",
    "    outfile = open(config_filename, 'w')\n",
    "    outfile.write(result)\n",
    "    outfile.close()"
   ]
  },
  {
   "cell_type": "code",
   "execution_count": null,
   "metadata": {},
   "outputs": [],
   "source": [
    "#create_configs('summary00.txt')"
   ]
  },
  {
   "cell_type": "markdown",
   "metadata": {},
   "source": [
    "## Method for creating xml for reference comparision"
   ]
  },
  {
   "cell_type": "code",
   "execution_count": null,
   "metadata": {},
   "outputs": [],
   "source": [
    "def create_ref_config(summary_filename):\n",
    "    for ref_index in range(0,4):\n",
    "        ref_summary_filename = sumindx2refindx[summary_filename][ref_index]\n",
    "        tokens = ref_summary_filename.strip().split('.txt')\n",
    "        #print(tokens[0])\n",
    "        filename_list = ['top', 'bottom', 'swap', 'full']\n",
    "        for file_prefix in filename_list:\n",
    "            ref_summary = tokens[0]+'_'+file_prefix+'.txt'\n",
    "            ref1 = ref_summary_filename\n",
    "            replace_dict = {'ref_summary':ref_summary, 'ref1':ref_summary_filename}\n",
    "            result = src1.substitute(replace_dict)\n",
    "            config_filename = 'OP/config_files/'+tokens[0] + '_' + file_prefix  + '.xml'\n",
    "            outfile = open(config_filename, 'w')\n",
    "            outfile.write(result) \n",
    "            outfile.close()\n",
    "            \n",
    "            if len(sumindx2refindx[summary_filename]) == 4:\n",
    "                cur_reference_file1_name = sumindx2refindx[summary_filename][0]\n",
    "                cur_reference_file2_name = sumindx2refindx[summary_filename][1]\n",
    "                cur_reference_file3_name = sumindx2refindx[summary_filename][2]\n",
    "                cur_reference_file4_name = sumindx2refindx[summary_filename][3]\n",
    "                replace_dict = {'ref_summary':ref_summary, 'ref1':cur_reference_file1_name, 'ref2':cur_reference_file2_name, 'ref3':cur_reference_file3_name, 'ref4':cur_reference_file4_name}\n",
    "                result = src4.substitute(replace_dict)\n",
    "            elif len(sumindx2refindx[summary_filename]) == 3:\n",
    "                cur_reference_file1_name = sumindx2refindx[summary_filename][0]\n",
    "                cur_reference_file2_name = sumindx2refindx[summary_filename][1]\n",
    "                cur_reference_file3_name = sumindx2refindx[summary_filename][2]\n",
    "                replace_dict = {'ref_summary':ref_summary, 'ref1':cur_reference_file1_name, 'ref2':cur_reference_file2_name, 'ref3':cur_reference_file3_name}\n",
    "                result = src3.substitute(replace_dict)\n",
    "            elif len(sumindx2refindx[summary_filename]) == 3:\n",
    "                cur_reference_file1_name = sumindx2refindx[summary_filename][0]\n",
    "                cur_reference_file2_name = sumindx2refindx[summary_filename][1]\n",
    "                replace_dict = {'ref_summary':ref_summary, 'ref1':cur_reference_file1_name, 'ref2':cur_reference_file2_name}\n",
    "                result = src2.substitute(replace_dict)\n",
    "            elif len(sumindx2refindx[summary_filename]) == 3:\n",
    "                cur_reference_file1_name = sumindx2refindx[summary_filename][0]\n",
    "                replace_dict = {'ref_summary':ref_summary, 'ref1':cur_reference_file1_name}\n",
    "                result = src1.substitute(replace_dict)\n",
    "            config_filename = 'OP/config_files/'+tokens[0] + '_' + file_prefix + '_' + 'all.xml'\n",
    "            outfile = open(config_filename, 'w')\n",
    "            outfile.write(result)\n",
    "            outfile.close()\n",
    "            \n",
    "        # handeling blank file \n",
    "        \n",
    "        file_prefix = 'blank'\n",
    "        ref_summary = file_prefix+'.txt'\n",
    "        ref1 = ref_summary_filename\n",
    "        replace_dict = {'ref_summary':ref_summary, 'ref1':ref_summary_filename}\n",
    "        result = src1.substitute(replace_dict)\n",
    "        config_filename = 'OP/config_files/'+tokens[0] + '_' + file_prefix + '_' + '.xml'\n",
    "        outfile = open(config_filename, 'w')\n",
    "        outfile.write(result)\n",
    "        outfile.close()"
   ]
  },
  {
   "cell_type": "code",
   "execution_count": null,
   "metadata": {},
   "outputs": [],
   "source": [
    "#create_ref_config('summary00.txt')"
   ]
  },
  {
   "cell_type": "markdown",
   "metadata": {},
   "source": [
    "## creating the files "
   ]
  },
  {
   "cell_type": "code",
   "execution_count": 145,
   "metadata": {},
   "outputs": [],
   "source": [
    "def create_file (file_path):\n",
    "    #temporary file name\n",
    "    file_name= ntpath.basename(file_path)[:-4]\n",
    "\n",
    "    top= ''\n",
    "    bottom= ''\n",
    "    sent_list=[]\n",
    "    with open(file_path) as f:\n",
    "        for i,line in enumerate(f):\n",
    "            sent_list.append(line)\n",
    "        for i in range(0,int(len(sent_list)/2)):\n",
    "            top +=sent_list[i]\n",
    "        for i in range(int(len(sent_list)/2),len(sent_list)):\n",
    "            bottom +=sent_list[i]\n",
    "\n",
    "    #top\n",
    "    config_filename = 'OP/text_files/'+file_name + '_' + 'top'  + '.txt'\n",
    "    outfile = open(config_filename, 'w')\n",
    "    outfile.write(top)\n",
    "    outfile.close()\n",
    "\n",
    "    #bottom\n",
    "    config_filename = 'OP/text_files/'+file_name + '_' + 'bottom' + '.txt'\n",
    "    outfile = open(config_filename, 'w')\n",
    "    outfile.write(top)\n",
    "    outfile.close()\n",
    "    #swap\n",
    "    swap = bottom+top\n",
    "    config_filename = 'OP/text_files/'+file_name + '_' + 'swap' + '.txt'\n",
    "    outfile = open(config_filename, 'w')\n",
    "    outfile.write(swap)\n",
    "    outfile.close()\n",
    "    #full\n",
    "    full = top+bottom\n",
    "    config_filename = 'OP/text_files/'+file_name + '_' + 'full' + '.txt'\n",
    "    outfile = open(config_filename, 'w')\n",
    "    outfile.write(full)\n",
    "    outfile.close()"
   ]
  },
  {
   "cell_type": "code",
   "execution_count": null,
   "metadata": {},
   "outputs": [],
   "source": [
    "create_file('xml-config-create-folder/baseline/summary12.txt')"
   ]
  },
  {
   "cell_type": "code",
   "execution_count": 139,
   "metadata": {},
   "outputs": [],
   "source": [
    "def create_all_files(baseline_file_path):\n",
    "    create_file(baseline_file_path)\n",
    "    file=ntpath.basename(baseline_file_path)\n",
    "    create_configs(file)\n",
    "    create_ref_config(file)"
   ]
  },
  {
   "cell_type": "code",
   "execution_count": 137,
   "metadata": {},
   "outputs": [],
   "source": [
    "def create(baseline_folder_path):\n",
    "    file_list = glob.glob(baseline_folder_path+\"/*.txt\")\n",
    "    for file in file_list:\n",
    "        create_all_files(file)\n",
    "        break"
   ]
  },
  {
   "cell_type": "code",
   "execution_count": 157,
   "metadata": {},
   "outputs": [],
   "source": [
    "create(\"xml-config-create-folder/baseline\")"
   ]
  },
  {
   "cell_type": "code",
   "execution_count": null,
   "metadata": {},
   "outputs": [],
   "source": []
  }
 ],
 "metadata": {
  "kernelspec": {
   "display_name": "Python [anaconda3]",
   "language": "python",
   "name": "Python [anaconda3]"
  },
  "language_info": {
   "codemirror_mode": {
    "name": "ipython",
    "version": 3
   },
   "file_extension": ".py",
   "mimetype": "text/x-python",
   "name": "python",
   "nbconvert_exporter": "python",
   "pygments_lexer": "ipython3",
   "version": "3.5.2"
  }
 },
 "nbformat": 4,
 "nbformat_minor": 2
}
